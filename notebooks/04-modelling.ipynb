{
 "cells": [
  {
   "cell_type": "code",
   "execution_count": 106,
   "metadata": {},
   "outputs": [],
   "source": [
    "import numpy as np\n",
    "import pandas as pd\n",
    "import matplotlib.pyplot as plt\n",
    "from sklearn.model_selection import train_test_split\n",
    "from scipy import stats\n",
    "import json\n",
    "from sklearn.linear_model import LinearRegression\n",
    "from sklearn.preprocessing import StandardScaler\n",
    "import joblib"
   ]
  },
  {
   "cell_type": "code",
   "execution_count": 145,
   "metadata": {},
   "outputs": [],
   "source": [
    "regions = [\"New England\", \"Mid Atlantic\", \"South\", \"Midwest\", \"Southwest\", \"West\"]"
   ]
  },
  {
   "cell_type": "code",
   "execution_count": 147,
   "metadata": {},
   "outputs": [],
   "source": [
    "new_england_df = pd.read_csv(\"../data/cleaned_new_england_covid.csv\")\n",
    "mid_atlantic_df = pd.read_csv(\"../data/cleaned_mid_atlantic_covid.csv\")\n",
    "south_df = pd.read_csv(\"../data/cleaned_south_covid.csv\")\n",
    "midwest_df = pd.read_csv(\"../data/cleaned_midwest_covid.csv\")\n",
    "southwest_df = pd.read_csv(\"../data/cleaned_southwest_covid.csv\")\n",
    "west_df = pd.read_csv(\"../data/cleaned_west_covid.csv\")"
   ]
  },
  {
   "cell_type": "code",
   "execution_count": 149,
   "metadata": {},
   "outputs": [],
   "source": [
    "def set_indexes(dfs):\n",
    "    for df in dfs:\n",
    "        df[\"date\"] = pd.to_datetime(df[\"date\"])\n",
    "        df.set_index(\"date\", inplace=True)\n",
    "        df = df.sort_index()"
   ]
  },
  {
   "cell_type": "code",
   "execution_count": 151,
   "metadata": {},
   "outputs": [],
   "source": [
    "set_indexes([new_england_df, mid_atlantic_df, south_df, midwest_df, southwest_df, west_df])"
   ]
  },
  {
   "cell_type": "code",
   "execution_count": 153,
   "metadata": {},
   "outputs": [],
   "source": [
    "# load lasso coefs\n",
    "with open('../data/coefs_region.json') as json_file:\n",
    "    coefs = json.load(json_file)"
   ]
  },
  {
   "cell_type": "code",
   "execution_count": 155,
   "metadata": {},
   "outputs": [],
   "source": [
    "region_features = {}\n",
    "for region in coefs.keys():\n",
    "    region_features[region] = list(coefs[region].keys())"
   ]
  },
  {
   "cell_type": "code",
   "execution_count": 157,
   "metadata": {},
   "outputs": [],
   "source": [
    "dfs_region_map = {\n",
    "    \"New England\": new_england_df,\n",
    "    \"Mid Atlantic\": mid_atlantic_df,\n",
    "    \"South\": south_df,\n",
    "    \"Midwest\": midwest_df,\n",
    "    \"Southwest\": southwest_df,\n",
    "    \"West\": west_df\n",
    "}"
   ]
  },
  {
   "cell_type": "code",
   "execution_count": 518,
   "metadata": {},
   "outputs": [],
   "source": [
    "def get_accuracies_model_and_predictions(dfs_region_map, coefs):\n",
    "    best_accs_region = {}\n",
    "    for region in dfs_region_map.keys():\n",
    "        df = dfs_region_map[region]\n",
    "        X = df.groupby(\"date\").mean(numeric_only=True)[coefs[region]]\n",
    "        y = df.groupby(\"date\").mean(numeric_only=True)[\"critical_staffing_shortage_today_yes\"]\n",
    "        X_train, X_test, y_train, y_test = train_test_split(X, y, test_size=0.2, random_state=1)\n",
    "        LR_model = LinearRegression()\n",
    "        LR_model.fit(X_train, y_train)\n",
    "        test_accuracyLR = LR_model.score(X_test, y_test)\n",
    "        predictions = LR_model.predict(X_test)\n",
    "        best_accs_region[region] = test_accuracyLR, X_test, predictions\n",
    "\n",
    "    return best_accs_region"
   ]
  },
  {
   "cell_type": "code",
   "execution_count": 545,
   "metadata": {},
   "outputs": [
    {
     "data": {
      "text/plain": [
       "{'New England': 0.9625530812132546,\n",
       " 'Mid Atlantic': 0.9154201931986359,\n",
       " 'South': 0.9695122436174112,\n",
       " 'Midwest': 0.985157514440196,\n",
       " 'Southwest': 0.9931344736885652,\n",
       " 'West': 0.9728233027232137}"
      ]
     },
     "execution_count": 545,
     "metadata": {},
     "output_type": "execute_result"
    }
   ],
   "source": [
    "accs_region = get_accuracies_model_and_predictions(dfs_region_map, region_features)\n",
    "{k:v[0] for k,v in accs_region.items()}"
   ]
  },
  {
   "cell_type": "code",
   "execution_count": 526,
   "metadata": {},
   "outputs": [],
   "source": [
    "new_england_score, ne_X_test, ne_predictions = accs_region[\"New England\"]"
   ]
  },
  {
   "cell_type": "code",
   "execution_count": 538,
   "metadata": {},
   "outputs": [
    {
     "data": {
      "image/png": "[encoded data removed]",
      "text/plain": [
       "<Figure size 640x480 with 1 Axes>"
      ]
     },
     "metadata": {},
     "output_type": "display_data"
    }
   ],
   "source": [
    "plt.figure()\n",
    "plt.scatter(ne_X_test.index, ne_predictions)\n",
    "plt.show()"
   ]
  }
 ],
 "metadata": {
  "kernelspec": {
   "display_name": "capstone",
   "language": "python",
   "name": "capstone"
  },
  "language_info": {
   "codemirror_mode": {
    "name": "ipython",
    "version": 3
   },
   "file_extension": ".py",
   "mimetype": "text/x-python",
   "name": "python",
   "nbconvert_exporter": "python",
   "pygments_lexer": "ipython3",
   "version": "3.8.19"
  }
 },
 "nbformat": 4,
 "nbformat_minor": 4
}
