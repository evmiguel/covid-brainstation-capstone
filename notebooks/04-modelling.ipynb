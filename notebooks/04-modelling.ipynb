{
 "cells": [
  {
   "cell_type": "code",
   "execution_count": 20,
   "metadata": {},
   "outputs": [],
   "source": [
    "import numpy as np\n",
    "import pandas as pd\n",
    "import matplotlib.pyplot as plt\n",
    "from sklearn.model_selection import train_test_split\n",
    "from scipy import stats\n",
    "import json\n",
    "from sklearn.linear_model import LinearRegression\n",
    "from sklearn.preprocessing import StandardScaler\n",
    "import joblib"
   ]
  },
  {
   "cell_type": "code",
   "execution_count": 6,
   "metadata": {},
   "outputs": [],
   "source": [
    "regions = [\"New England\", \"Mid Atlantic\", \"South\", \"Midwest\", \"Southwest\", \"West\"]"
   ]
  },
  {
   "cell_type": "code",
   "execution_count": 11,
   "metadata": {},
   "outputs": [],
   "source": [
    "new_england_df = pd.read_csv(\"../data/cleaned_new_england_covid.csv\")\n",
    "mid_atlantic_df = pd.read_csv(\"../data/cleaned_mid_atlantic_covid.csv\")\n",
    "south_df = pd.read_csv(\"../data/cleaned_south_covid.csv\")\n",
    "midwest_df = pd.read_csv(\"../data/cleaned_midwest_covid.csv\")\n",
    "southwest_df = pd.read_csv(\"../data/cleaned_southwest_covid.csv\")\n",
    "west_df = pd.read_csv(\"../data/cleaned_west_covid.csv\")"
   ]
  },
  {
   "cell_type": "code",
   "execution_count": 14,
   "metadata": {},
   "outputs": [],
   "source": [
    "# load lasso coefs\n",
    "with open('../data/coefs_region.json') as json_file:\n",
    "    coefs = json.load(json_file)"
   ]
  },
  {
   "cell_type": "code",
   "execution_count": 17,
   "metadata": {},
   "outputs": [],
   "source": [
    "region_features = {}\n",
    "for region in coefs.keys():\n",
    "    region_features[region] = list(coefs[region].keys())"
   ]
  },
  {
   "cell_type": "code",
   "execution_count": 23,
   "metadata": {},
   "outputs": [],
   "source": [
    "dfs_region_map = {\n",
    "    \"New England\": new_england_df,\n",
    "    \"Mid Atlantic\": mid_atlantic_df,\n",
    "    \"South\": south_df,\n",
    "    \"Midwest\": midwest_df,\n",
    "    \"Southwest\": southwest_df,\n",
    "    \"West\": west_df\n",
    "}"
   ]
  },
  {
   "cell_type": "code",
   "execution_count": 39,
   "metadata": {},
   "outputs": [],
   "source": [
    "def get_and_plot_best_accuracies_logreg(dfs_region_map, coefs):\n",
    "    best_accs_region = {}\n",
    "    for region in dfs_region_map.keys():\n",
    "        df = dfs_region_map[region]\n",
    "        X = df[coefs[region]]\n",
    "        y = df[\"critical_staffing_shortage_today_yes\"]\n",
    "        X_train, X_test, y_train, y_test = train_test_split(X, y, test_size=0.2, random_state=1)\n",
    "        scaler = StandardScaler()\n",
    "        scaler.fit(X_train)\n",
    "        X_train = scaler.transform(X_train)\n",
    "        X_test = scaler.transform(X_test)\n",
    "\n",
    "        C_range = 10.**np.arange(-3, 3)\n",
    "\n",
    "        train_accLoR = []\n",
    "        test_accLoR = []\n",
    "        \n",
    "        best_model = None\n",
    "        best_acc = -np.inf\n",
    "\n",
    "        LR_model = LinearRegression()\n",
    "        LR_model.fit(X_train, y_train)\n",
    "        test_accuracyLR = LR_model.score(X_test, y_test)\n",
    "        best_accs_region[region] = test_accuracyLR\n",
    "\n",
    "    return best_accs_region"
   ]
  },
  {
   "cell_type": "code",
   "execution_count": 41,
   "metadata": {},
   "outputs": [],
   "source": [
    "best_accs_region = get_and_plot_best_accuracies_logreg(dfs_region_map, region_features)"
   ]
  },
  {
   "cell_type": "code",
   "execution_count": 44,
   "metadata": {},
   "outputs": [
    {
     "data": {
      "text/plain": [
       "{'New England': 0.8033521877317962,\n",
       " 'Mid Atlantic': 0.8280235923928767,\n",
       " 'South': 0.76655961777935,\n",
       " 'Midwest': 0.8392429084363228,\n",
       " 'Southwest': 0.9586491053431411,\n",
       " 'West': 0.9374093818603041}"
      ]
     },
     "execution_count": 44,
     "metadata": {},
     "output_type": "execute_result"
    }
   ],
   "source": [
    "best_accs_region"
   ]
  }
 ],
 "metadata": {
  "kernelspec": {
   "display_name": "capstone",
   "language": "python",
   "name": "capstone"
  },
  "language_info": {
   "codemirror_mode": {
    "name": "ipython",
    "version": 3
   },
   "file_extension": ".py",
   "mimetype": "text/x-python",
   "name": "python",
   "nbconvert_exporter": "python",
   "pygments_lexer": "ipython3",
   "version": "3.8.19"
  }
 },
 "nbformat": 4,
 "nbformat_minor": 4
}
